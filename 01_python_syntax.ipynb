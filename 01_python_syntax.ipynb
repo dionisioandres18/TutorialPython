{
 "cells": [
  {
   "cell_type": "markdown",
   "metadata": {
    "id": "JRgqzrv3rm-L"
   },
   "source": [
    "# **Introduction to Python**\n",
    "## What's Python?"
   ]
  },
  {
   "cell_type": "markdown",
   "metadata": {
    "id": "rTOz1U9XrysR"
   },
   "source": [
    "Programming language. It is mainly used for:\n",
    "\n",
    "\n",
    "* Web development (server-side)\n",
    "* Software development\n",
    "* Artificial Intelligence\n",
    "* Embedded systems - Automation\n",
    "* Among others...  \n",
    "\n",
    "## Why Python?\n",
    "\n",
    "* Python works on different platforms (Windows, Mac, Linux, Raspberry Pi, etc.).\n",
    "* Python has a simple syntax similar to the English language.\n",
    "* Python has a syntax that allows developers to write programs with fewer lines than other programming languages.\n",
    "* Python runs on an interpreter system, which means that code can be executed as soon as it is written. This means that prototyping can be very fast.\n",
    "* Python can be treated as procedural, object-oriented or functional."
   ]
  },
  {
   "cell_type": "markdown",
   "metadata": {
    "id": "-k-oX_CUZIWv"
   },
   "source": [
    "## Variables\n",
    "\n",
    "Variables are containers used to store data and/or values.\n",
    "\n",
    "There is no command to create a variable. A variable is created the moment it is assigned a value for the first time.\n",
    "\n",
    "Example:"
   ]
  },
  {
   "cell_type": "code",
   "execution_count": 1,
   "metadata": {
    "id": "StR-bkQ3Z_z_"
   },
   "outputs": [],
   "source": [
    "x = 100\n",
    "name = \"Michael\""
   ]
  },
  {
   "cell_type": "markdown",
   "metadata": {
    "id": "Fd90abZxaqZp"
   },
   "source": [
    "A variable can have a short name (e.g. x, y, z) or a more descriptive name (e.g. age, address).\n",
    "\n",
    "There are rules for python variables:\n",
    "* A variable name must start with a letter or underscore.\n",
    "* A variable name cannot start with a number.\n",
    "A variable name can only contain alphanumeric characters and underscores (Az, 0-9, and _) * Variable names distinguish between alphanumeric characters and underscores.\n",
    "* Variable names are case-sensitive (age, Age and AGE are three different variables)\n",
    "* A variable name cannot be any of the Python keywords (we will see them later).\n",
    "\n",
    "Example:"
   ]
  },
  {
   "cell_type": "code",
   "execution_count": null,
   "metadata": {
    "id": "5K91sIzzco7m"
   },
   "outputs": [],
   "source": [
    "myvar = \"Matias\"\n",
    "my_var = \"Matias\"\n",
    "_my_var = \"Matias\"\n",
    "myVar = \"Matias\"\n",
    "MYVAR = \"Matias\"\n",
    "myvar2 = \"Matias\""
   ]
  },
  {
   "cell_type": "code",
   "execution_count": null,
   "metadata": {
    "id": "ZSfGi9bedd_z"
   },
   "outputs": [
    {
     "ename": "SyntaxError",
     "evalue": "invalid decimal literal (3422218829.py, line 3)",
     "output_type": "error",
     "traceback": [
      "\u001b[1;36m  Cell \u001b[1;32mIn[2], line 3\u001b[1;36m\u001b[0m\n\u001b[1;33m    2myvar = \"Batman\" #begins with a number\u001b[0m\n\u001b[1;37m    ^\u001b[0m\n\u001b[1;31mSyntaxError\u001b[0m\u001b[1;31m:\u001b[0m invalid decimal literal\n"
     ]
    }
   ],
   "source": [
    "# invalid variable names\n",
    "my$var = \"Batman\" #contains special characters !,@,#,$\n",
    "2myvar = \"Batman\" #begins with a number\n",
    "my var = \"Batman\" #contains white spaces"
   ]
  },
  {
   "cell_type": "markdown",
   "metadata": {
    "id": "5ewzwfvDdy2F"
   },
   "source": [
    "## Variable names with several words\n",
    "\n",
    "Variable names with more than one word can be difficult to read.\n",
    "\n",
    "There are several techniques you can use to make them more readable:"
   ]
  },
  {
   "cell_type": "code",
   "execution_count": 3,
   "metadata": {
    "id": "X8-RRd2Td7bJ"
   },
   "outputs": [],
   "source": [
    "# Camel Case\n",
    "# Every word starts with a capital letter except the first one\n",
    "myVariableName = \"Lint\"\n",
    "\n",
    "# Pascal Case\n",
    "# Each word begins with a capital letter\n",
    "myVariableName = \"Luna\"\n",
    "\n",
    "# Snake Case\n",
    "# Each word is separated by an underscore\n",
    "my_variable_name = \"Jupiter\""
   ]
  },
  {
   "cell_type": "markdown",
   "metadata": {
    "id": "I28VZnyGe9eR"
   },
   "source": [
    "### Assigning multiple values\n",
    "\n",
    "Python allows you to assign values to multiple variables in one line."
   ]
  },
  {
   "cell_type": "code",
   "execution_count": 1,
   "metadata": {
    "colab": {
     "base_uri": "https://localhost:8080/"
    },
    "executionInfo": {
     "elapsed": 20,
     "status": "ok",
     "timestamp": 1684004878527,
     "user": {
      "displayName": "Dionisio Blanco Bello",
      "userId": "12381334804745398133"
     },
     "user_tz": 300
    },
    "id": "RGa4tQBcgsqA",
    "outputId": "eda9ae4f-54b6-4aef-a54a-bbfffae3ab03"
   },
   "outputs": [
    {
     "name": "stdout",
     "output_type": "stream",
     "text": [
      "1995\n",
      "-5\n",
      "8.6\n"
     ]
    }
   ],
   "source": [
    "x, y, z = 1995, -5, 8.6\n",
    "print(x)\n",
    "print(y)\n",
    "print(z)"
   ]
  },
  {
   "cell_type": "code",
   "execution_count": 2,
   "metadata": {
    "colab": {
     "base_uri": "https://localhost:8080/"
    },
    "executionInfo": {
     "elapsed": 308,
     "status": "ok",
     "timestamp": 1684015302010,
     "user": {
      "displayName": "Dionisio Blanco Bello",
      "userId": "12381334804745398133"
     },
     "user_tz": 300
    },
    "id": "bMja1vDDIeiq",
    "outputId": "1da8011d-ed9e-4f7f-9e70-35c5b5e778b8"
   },
   "outputs": [
    {
     "name": "stdout",
     "output_type": "stream",
     "text": [
      "1995\n",
      "1995\n",
      "1995\n"
     ]
    }
   ],
   "source": [
    "x = y = z = 1995\n",
    "print(x)\n",
    "print(y)\n",
    "print(z)"
   ]
  },
  {
   "cell_type": "markdown",
   "metadata": {
    "id": "l2I2gv4kl-0l"
   },
   "source": [
    "## Python Data Types\n",
    "Variables can store data of different types, and different types can do different things.\n",
    "\n",
    "Python has the following data types built in by default, in these categories:\n",
    "* Text Type: str\n",
    "* Numeric Types: int, float, complex\n",
    "* Sequence Types: list, tuple, range\n",
    "* Mapping Type: dict\n",
    "* Set Types: set, frozenset\n",
    "* Boolean Type: bool\n",
    "* Binary Types: bytes, bytearray, memoryview\n",
    "* None Type: NoneType\n",
    "\n",
    "We can know the type of data we are working with using the ***type()*** function:\n"
   ]
  },
  {
   "cell_type": "code",
   "execution_count": 3,
   "metadata": {
    "colab": {
     "base_uri": "https://localhost:8080/"
    },
    "executionInfo": {
     "elapsed": 248,
     "status": "ok",
     "timestamp": 1684024429248,
     "user": {
      "displayName": "Dionisio Blanco Bello",
      "userId": "12381334804745398133"
     },
     "user_tz": 300
    },
    "id": "BetAjMqFm2oR",
    "outputId": "e293508f-ece1-401b-c3c4-811eb372d2cc"
   },
   "outputs": [
    {
     "name": "stdout",
     "output_type": "stream",
     "text": [
      "<class 'int'>\n",
      "<class 'float'>\n",
      "<class 'complex'>\n",
      "<class 'str'>\n",
      "<class 'list'>\n",
      "<class 'dict'>\n"
     ]
    }
   ],
   "source": [
    "x = 30 # integer\n",
    "y = 3.5 # float\n",
    "z = 3+4j # complex\n",
    "name = \"Anibal\" # string\n",
    "city = [\"Bogotá\", \"Cartagena\", \"Barranquilla\", \"Medellin\"] # list\n",
    "car = {\"brand\" : \"Chevrolet\", \"model\" : \"Tracker\", \"color\" : \"Negro\", \"year\": 2023} # dict\n",
    "print(type(x))\n",
    "print(type(y))\n",
    "print(type(z))\n",
    "print(type(name))\n",
    "print(type(city))\n",
    "print(type(car))"
   ]
  },
  {
   "cell_type": "markdown",
   "metadata": {
    "id": "p8s6uDArriad"
   },
   "source": [
    "## Type conversion (Numbers)\n",
    "You can convert from one type to another with the int(), float()and :complex() methods.\n",
    "\n",
    "\n",
    "Examples:"
   ]
  },
  {
   "cell_type": "code",
   "execution_count": 4,
   "metadata": {
    "colab": {
     "base_uri": "https://localhost:8080/"
    },
    "executionInfo": {
     "elapsed": 278,
     "status": "ok",
     "timestamp": 1684025018250,
     "user": {
      "displayName": "Dionisio Blanco Bello",
      "userId": "12381334804745398133"
     },
     "user_tz": 300
    },
    "id": "CG_G0mo4rsf9",
    "outputId": "5bb79afc-e0dd-4268-bff8-dad7f2c42af2"
   },
   "outputs": [
    {
     "name": "stdout",
     "output_type": "stream",
     "text": [
      "a: 1.0 ----> <class 'float'>\n",
      "b: 2 ----> <class 'int'>\n",
      "c: (1+0j) ----> <class 'complex'>\n"
     ]
    }
   ],
   "source": [
    "x = 1    # integer\n",
    "y = 2.8  # float\n",
    "z = 1j   # complex\n",
    "\n",
    "#from integer to float:\n",
    "a = float(x) # ----> a=1.0\n",
    "\n",
    "#from floar to integer:\n",
    "b = int(y) # ----> b=2\n",
    "\n",
    "#from integer to complex:\n",
    "c = complex(x) # ----> c=1+0j\n",
    "\n",
    "print(\"a:\",a,\"---->\",type(a))\n",
    "print(\"b:\",b,\"---->\",type(b))\n",
    "print(\"c:\",c,\"---->\",type(c))\n"
   ]
  },
  {
   "cell_type": "markdown",
   "metadata": {
    "id": "mkQYVqRFcwLI"
   },
   "source": [
    "## Data type conversion\n",
    "conversion in python is done by constructor functions:\n",
    "\n",
    "  * int() : constructs an integer from an integer literal, a float literal (removing all decimals) or a string literal (as long as the string represents an integer).\n",
    "  * float() : constructs a float number from an integer literal, a float literal or a string literal (provided that the string represents a float or an integer)\n",
    "  * str() : constructs a string from a wide variety of data types, including strings, integer literals, and float literals.\n",
    "\n",
    "  Example:\n"
   ]
  },
  {
   "cell_type": "code",
   "execution_count": 5,
   "metadata": {
    "colab": {
     "base_uri": "https://localhost:8080/"
    },
    "executionInfo": {
     "elapsed": 17,
     "status": "ok",
     "timestamp": 1684037764273,
     "user": {
      "displayName": "Dionisio Blanco Bello",
      "userId": "12381334804745398133"
     },
     "user_tz": 300
    },
    "id": "gXhqgO00cv4H",
    "outputId": "da82311b-f98f-4619-c5ad-41fa113921e0"
   },
   "outputs": [
    {
     "name": "stdout",
     "output_type": "stream",
     "text": [
      "1 <class 'int'>\n",
      "2 <class 'int'>\n",
      "3 <class 'int'>\n"
     ]
    }
   ],
   "source": [
    "# Conversion to integers\n",
    "x = int(1)   # x will be 1\n",
    "y = int(2.8) # y will be 2\n",
    "z = int(\"3\") # z will be 3\n",
    "\n",
    "print(x, type(x))\n",
    "print(y, type(y))\n",
    "print(z, type(z))"
   ]
  },
  {
   "cell_type": "code",
   "execution_count": 7,
   "metadata": {
    "colab": {
     "base_uri": "https://localhost:8080/"
    },
    "executionInfo": {
     "elapsed": 254,
     "status": "ok",
     "timestamp": 1684037759205,
     "user": {
      "displayName": "Dionisio Blanco Bello",
      "userId": "12381334804745398133"
     },
     "user_tz": 300
    },
    "id": "flSGUwhZdza2",
    "outputId": "a263321c-7d8b-47f7-de27-c26955f9e9a4"
   },
   "outputs": [
    {
     "name": "stdout",
     "output_type": "stream",
     "text": [
      "1.0 <class 'float'>\n",
      "2.8 <class 'float'>\n",
      "3.0 <class 'float'>\n"
     ]
    }
   ],
   "source": [
    "# Conversion to float\n",
    "x = float(1)     # x will be 1.0\n",
    "y = float(2.8)   # y will be 2.8\n",
    "z = float(\"3\")   # z will be 3.0\n",
    "w = float(\"4.2\") # w will be 4.2\n",
    "\n",
    "print(x, type(x))\n",
    "print(y, type(y))\n",
    "print(z, type(z))"
   ]
  },
  {
   "cell_type": "code",
   "execution_count": 8,
   "metadata": {
    "colab": {
     "base_uri": "https://localhost:8080/"
    },
    "executionInfo": {
     "elapsed": 241,
     "status": "ok",
     "timestamp": 1684037744596,
     "user": {
      "displayName": "Dionisio Blanco Bello",
      "userId": "12381334804745398133"
     },
     "user_tz": 300
    },
    "id": "NkDxPC2Ud5P5",
    "outputId": "b04313e7-aa15-4e15-b082-117b0448695d"
   },
   "outputs": [
    {
     "name": "stdout",
     "output_type": "stream",
     "text": [
      "s1 <class 'str'>\n",
      "2 <class 'str'>\n",
      "3.0 <class 'str'>\n"
     ]
    }
   ],
   "source": [
    "#Conversion to o strings\n",
    "x = str(\"s1\") # x will be 's1'\n",
    "y = str(2)    # y will be '2'\n",
    "z = str(3.0)  # z will be '3.0'\n",
    "\n",
    "print(x, type(x))\n",
    "print(y, type(y))\n",
    "print(z, type(z))"
   ]
  },
  {
   "cell_type": "markdown",
   "metadata": {
    "id": "XFtdQediR3NT"
   },
   "source": [
    "# Strings\n",
    "Strings represent a set of characters and in Python are enclosed in single or double quotes.\n",
    "Example:\n",
    "'hello' is the same as “hello”.\n",
    "\n",
    "Assigning a string to a variable is done with the variable name followed by an equal sign and the string:\n",
    "\n",
    "Example:"
   ]
  },
  {
   "cell_type": "code",
   "execution_count": 9,
   "metadata": {
    "colab": {
     "base_uri": "https://localhost:8080/"
    },
    "executionInfo": {
     "elapsed": 13,
     "status": "ok",
     "timestamp": 1684372956194,
     "user": {
      "displayName": "Dionisio Blanco Bello",
      "userId": "12381334804745398133"
     },
     "user_tz": 300
    },
    "id": "Wr7rWSjkjZ36",
    "outputId": "ae92ccfd-4a84-4e7a-9c6c-e85fc8fddece"
   },
   "outputs": [
    {
     "name": "stdout",
     "output_type": "stream",
     "text": [
      "Hola mundo <class 'str'>\n"
     ]
    }
   ],
   "source": [
    "greeting = \"Hola mundo\"\n",
    "print(greeting,type(greeting))"
   ]
  },
  {
   "cell_type": "markdown",
   "metadata": {
    "id": "kDOi8e3Yj4Ql"
   },
   "source": [
    "## Slicing Strings\n",
    "Strings can be sliced, that is, a part of a string can be extracted if desired. To extract a part of a string you need to specify the start index and the end index, separated by a colon. *(this extraction includes the value of the initial index, but not the final index)*.\n",
    "\n",
    "Example:"
   ]
  },
  {
   "cell_type": "code",
   "execution_count": null,
   "metadata": {
    "colab": {
     "base_uri": "https://localhost:8080/",
     "height": 35
    },
    "executionInfo": {
     "elapsed": 391,
     "status": "ok",
     "timestamp": 1684039978019,
     "user": {
      "displayName": "Dionisio Blanco Bello",
      "userId": "12381334804745398133"
     },
     "user_tz": 300
    },
    "id": "UzmnKUKQZBd0",
    "outputId": "b1b2b519-8309-4078-9e1c-e83a64208f42"
   },
   "outputs": [
    {
     "data": {
      "text/plain": [
       "'Pyth'"
      ]
     },
     "execution_count": 10,
     "metadata": {},
     "output_type": "execute_result"
    }
   ],
   "source": [
    "# word = P y t h o n\n",
    "# index  = 0 1 2 3 4 5\n",
    "# initial_index = 0 --> P\n",
    "# final_index = 4 --> o but since it does not include it, the previous index is taken, 3 --> h\n",
    "word = \"Python\"\n",
    "word[0:4]"
   ]
  },
  {
   "cell_type": "code",
   "execution_count": null,
   "metadata": {
    "colab": {
     "base_uri": "https://localhost:8080/",
     "height": 35
    },
    "executionInfo": {
     "elapsed": 289,
     "status": "ok",
     "timestamp": 1684039980121,
     "user": {
      "displayName": "Dionisio Blanco Bello",
      "userId": "12381334804745398133"
     },
     "user_tz": 300
    },
    "id": "j8wzNDoNk6HW",
    "outputId": "a5703ebe-051d-4455-bf87-76eaca942036"
   },
   "outputs": [
    {
     "data": {
      "application/vnd.google.colaboratory.intrinsic+json": {
       "type": "string"
      },
      "text/plain": [
       "'mave'"
      ]
     },
     "execution_count": 23,
     "metadata": {},
     "output_type": "execute_result"
    }
   ],
   "source": [
    "# estacion = p r i m a v e r a\n",
    "# indice   = 0 1 2 3 4 5 6 7 8\n",
    "# indice inicial = 3 --> m\n",
    "# indice final = 7 --> r pero como no lo incluye, se toma el indice anterior, es decir el 6 --> e\n",
    "estacion = \"primavera\"\n",
    "estacion[3:7]"
   ]
  },
  {
   "cell_type": "code",
   "execution_count": 1,
   "metadata": {
    "colab": {
     "base_uri": "https://localhost:8080/",
     "height": 35
    },
    "executionInfo": {
     "elapsed": 297,
     "status": "ok",
     "timestamp": 1684039984584,
     "user": {
      "displayName": "Dionisio Blanco Bello",
      "userId": "12381334804745398133"
     },
     "user_tz": 300
    },
    "id": "S4wYstsGZz9J",
    "outputId": "3ae7acfb-ce60-4872-d2e9-4b64e6319077"
   },
   "outputs": [
    {
     "data": {
      "text/plain": [
       "'Colom'"
      ]
     },
     "execution_count": 1,
     "metadata": {},
     "output_type": "execute_result"
    }
   ],
   "source": [
    "# By omitting the start index, the range will start at the first character:\n",
    "country = \"Colombia\"\n",
    "country[:5]"
   ]
  },
  {
   "cell_type": "code",
   "execution_count": 2,
   "metadata": {
    "colab": {
     "base_uri": "https://localhost:8080/",
     "height": 35
    },
    "executionInfo": {
     "elapsed": 263,
     "status": "ok",
     "timestamp": 1684040026787,
     "user": {
      "displayName": "Dionisio Blanco Bello",
      "userId": "12381334804745398133"
     },
     "user_tz": 300
    },
    "id": "x5V0CfVQmvTS",
    "outputId": "4b28363f-00b0-440e-83ea-626a07800eae"
   },
   "outputs": [
    {
     "data": {
      "text/plain": [
       "'ombia'"
      ]
     },
     "execution_count": 2,
     "metadata": {},
     "output_type": "execute_result"
    }
   ],
   "source": [
    "# By omitting the final index, the range will go to the end:\n",
    "country = \"Colombia\"\n",
    "country[3:]"
   ]
  },
  {
   "cell_type": "code",
   "execution_count": 3,
   "metadata": {
    "colab": {
     "base_uri": "https://localhost:8080/",
     "height": 35
    },
    "executionInfo": {
     "elapsed": 228,
     "status": "ok",
     "timestamp": 1684040192671,
     "user": {
      "displayName": "Dionisio Blanco Bello",
      "userId": "12381334804745398133"
     },
     "user_tz": 300
    },
    "id": "wzWtp6KRle-V",
    "outputId": "a5501b7c-9b49-4f83-9970-937f3e04a46a"
   },
   "outputs": [
    {
     "data": {
      "text/plain": [
       "'m'"
      ]
     },
     "execution_count": 3,
     "metadata": {},
     "output_type": "execute_result"
    }
   ],
   "source": [
    "# Use negative indices to start the segment from the end of the string:\n",
    "# country            =  C  o  l  o  m  b  i  a\n",
    "# negative_index = -8 -7 -6 -5 -4 -3 -2 -1\n",
    "country = \"Colombia\"\n",
    "country[-4]\n"
   ]
  },
  {
   "cell_type": "code",
   "execution_count": 4,
   "metadata": {
    "colab": {
     "base_uri": "https://localhost:8080/",
     "height": 206
    },
    "executionInfo": {
     "elapsed": 398,
     "status": "error",
     "timestamp": 1684373230527,
     "user": {
      "displayName": "Dionisio Blanco Bello",
      "userId": "12381334804745398133"
     },
     "user_tz": 300
    },
    "id": "lOBa_hakfLr5",
    "outputId": "2336dda1-183b-47c0-a781-f7e049f5851b"
   },
   "outputs": [
    {
     "ename": "TypeError",
     "evalue": "'str' object does not support item assignment",
     "output_type": "error",
     "traceback": [
      "\u001b[1;31m---------------------------------------------------------------------------\u001b[0m",
      "\u001b[1;31mTypeError\u001b[0m                                 Traceback (most recent call last)",
      "Cell \u001b[1;32mIn[4], line 3\u001b[0m\n\u001b[0;32m      1\u001b[0m \u001b[38;5;66;03m# Strings are not editable\u001b[39;00m\n\u001b[0;32m      2\u001b[0m word\u001b[38;5;241m=\u001b[39m\u001b[38;5;124m\"\u001b[39m\u001b[38;5;124mbananas\u001b[39m\u001b[38;5;124m\"\u001b[39m\n\u001b[1;32m----> 3\u001b[0m \u001b[43mword\u001b[49m\u001b[43m[\u001b[49m\u001b[38;5;241;43m0\u001b[39;49m\u001b[43m]\u001b[49m\u001b[38;5;241m=\u001b[39m\u001b[38;5;124m\"\u001b[39m\u001b[38;5;124mB\u001b[39m\u001b[38;5;124m\"\u001b[39m\n",
      "\u001b[1;31mTypeError\u001b[0m: 'str' object does not support item assignment"
     ]
    }
   ],
   "source": [
    "# Strings are not editable\n",
    "word=\"bananas\"\n",
    "word[0]=\"B\""
   ]
  },
  {
   "cell_type": "markdown",
   "metadata": {
    "id": "s_QIuOBPd-QX"
   },
   "source": [
    "## String concatenation\n",
    "To concatenate or combine two strings, you can use the + operator.\n",
    "\n",
    "Example:"
   ]
  },
  {
   "cell_type": "code",
   "execution_count": null,
   "metadata": {
    "colab": {
     "base_uri": "https://localhost:8080/"
    },
    "executionInfo": {
     "elapsed": 380,
     "status": "ok",
     "timestamp": 1684373394494,
     "user": {
      "displayName": "Dionisio Blanco Bello",
      "userId": "12381334804745398133"
     },
     "user_tz": 300
    },
    "id": "mJmDw59xeQG4",
    "outputId": "69505004-a5ed-49f4-8dd4-fa46aee1c60b"
   },
   "outputs": [
    {
     "name": "stdout",
     "output_type": "stream",
     "text": [
      "LuisaVargas\n",
      "Luisa Vargas\n"
     ]
    }
   ],
   "source": [
    "name = \"Luisa\"\n",
    "lastname = \"Vargas\"\n",
    "\n",
    "print(name+lastname)\n",
    "print(name+\" \"+lastname) #Adding a space between"
   ]
  },
  {
   "cell_type": "markdown",
   "metadata": {
    "id": "Pi_FcFFslxcC"
   },
   "source": [
    "Podemos combinar numeros y cadenas usando el método format().\n",
    "\n",
    "El método format() toma los argumentos que esten dentro del parentesis, y los coloca en la cadena donde están los marcadores de posición {}.\n",
    "\n",
    "Ejemplo:"
   ]
  },
  {
   "cell_type": "code",
   "execution_count": null,
   "metadata": {
    "colab": {
     "base_uri": "https://localhost:8080/"
    },
    "executionInfo": {
     "elapsed": 560,
     "status": "ok",
     "timestamp": 1684375457602,
     "user": {
      "displayName": "Dionisio Blanco Bello",
      "userId": "12381334804745398133"
     },
     "user_tz": 300
    },
    "id": "lW6Gh5kNmJjW",
    "outputId": "883c772f-24fc-43ad-c7d9-954418b60565"
   },
   "outputs": [
    {
     "name": "stdout",
     "output_type": "stream",
     "text": [
      "Samuel obtuvo una calificacion de 3.6 en su examen de inglés\n"
     ]
    }
   ],
   "source": [
    "nota_final = 3.6\n",
    "texto = \"Samuel obtuvo una calificacion de {} en su examen de inglés\"\n",
    "print(texto.format(nota_final))"
   ]
  },
  {
   "cell_type": "code",
   "execution_count": null,
   "metadata": {
    "colab": {
     "base_uri": "https://localhost:8080/"
    },
    "executionInfo": {
     "elapsed": 39,
     "status": "ok",
     "timestamp": 1684375534249,
     "user": {
      "displayName": "Dionisio Blanco Bello",
      "userId": "12381334804745398133"
     },
     "user_tz": 300
    },
    "id": "YbjaMDqNmcFu",
    "outputId": "ff0814ab-d8e0-42cd-f938-cfc8c8cb868f"
   },
   "outputs": [
    {
     "name": "stdout",
     "output_type": "stream",
     "text": [
      "Fernanda tiene 21 años y mide 1.72 metros\n"
     ]
    }
   ],
   "source": [
    "altura = 1.72\n",
    "edad = 21\n",
    "texto = \"Fernanda tiene {} años y mide {} metros\"\n",
    "print(texto.format(edad, altura))"
   ]
  },
  {
   "cell_type": "code",
   "execution_count": null,
   "metadata": {
    "colab": {
     "base_uri": "https://localhost:8080/"
    },
    "executionInfo": {
     "elapsed": 672,
     "status": "ok",
     "timestamp": 1683987832276,
     "user": {
      "displayName": "Dionisio Blanco Bello",
      "userId": "12381334804745398133"
     },
     "user_tz": 300
    },
    "id": "7m4-Cy0_fQD2",
    "outputId": "238f6e26-172d-4dbb-f5e9-092c4060566d"
   },
   "outputs": [
    {
     "name": "stdout",
     "output_type": "stream",
     "text": [
      "['melon', 'pera', 'naranja']\n",
      "['melon', 'pera', 'naranja', 12]\n"
     ]
    }
   ],
   "source": [
    "frutas=[\"manzana\",\"pera\", \"naranja\"]\n",
    "frutas[0]=\"melon\"\n",
    "print(frutas)\n",
    "frutas.append(12)\n",
    "print(frutas)"
   ]
  },
  {
   "cell_type": "markdown",
   "metadata": {
    "id": "GMRFd0XzR15W"
   },
   "source": []
  },
  {
   "cell_type": "markdown",
   "metadata": {
    "id": "D6SbH3kQkunb"
   },
   "source": [
    "## Funcion Input\n",
    "Permite al usuario ingresar datos desde consola. Ej"
   ]
  },
  {
   "cell_type": "code",
   "execution_count": 2,
   "metadata": {
    "colab": {
     "base_uri": "https://localhost:8080/"
    },
    "executionInfo": {
     "elapsed": 1966,
     "status": "ok",
     "timestamp": 1693183135477,
     "user": {
      "displayName": "Dionisio Blanco Bello",
      "userId": "12381334804745398133"
     },
     "user_tz": 300
    },
    "id": "ar1-1omHk1ff",
    "outputId": "96b6003b-de33-47ee-de9c-d1fb2b8c08f2"
   },
   "outputs": [
    {
     "name": "stdout",
     "output_type": "stream",
     "text": [
      "Ingresar un numero 43\n",
      "el numero ingresdo es:  43\n"
     ]
    }
   ],
   "source": [
    "#ingresar un numero\n",
    "numero = int(input(\"Ingresar un numero \"))\n",
    "print(\"el numero ingresdo es: \", numero)"
   ]
  },
  {
   "cell_type": "code",
   "execution_count": 4,
   "metadata": {
    "colab": {
     "base_uri": "https://localhost:8080/"
    },
    "executionInfo": {
     "elapsed": 3961,
     "status": "ok",
     "timestamp": 1693183197222,
     "user": {
      "displayName": "Dionisio Blanco Bello",
      "userId": "12381334804745398133"
     },
     "user_tz": 300
    },
    "id": "A7DD3Eg4lG5e",
    "outputId": "c30d786a-5feb-4150-8c5d-36066e5c0a60"
   },
   "outputs": [
    {
     "name": "stdout",
     "output_type": "stream",
     "text": [
      "Ingresar un mensaje hola mundo\n",
      "el mensaje ingresdo es:  hola mundo\n"
     ]
    }
   ],
   "source": [
    "#ingresar un  mensaje\n",
    "mensaje = input(\"Ingresar un mensaje \")\n",
    "print(\"el mensaje ingresdo es: \", mensaje)"
   ]
  }
 ],
 "metadata": {
  "colab": {
   "authorship_tag": "ABX9TyNw3HLf/CFyWHhT5YDoWx6e",
   "provenance": []
  },
  "kernelspec": {
   "display_name": "Python 3",
   "name": "python3"
  },
  "language_info": {
   "codemirror_mode": {
    "name": "ipython",
    "version": 3
   },
   "file_extension": ".py",
   "mimetype": "text/x-python",
   "name": "python",
   "nbconvert_exporter": "python",
   "pygments_lexer": "ipython3",
   "version": "3.11.5"
  }
 },
 "nbformat": 4,
 "nbformat_minor": 0
}
